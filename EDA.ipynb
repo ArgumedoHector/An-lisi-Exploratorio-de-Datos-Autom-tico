{
 "cells": [
  {
   "cell_type": "code",
   "execution_count": null,
   "metadata": {},
   "outputs": [],
   "source": [
    "import streamlit as st\n",
    "import plotly.express as px\n",
    "import pandas_profiling\n",
    "import pandas as pd\n",
    "from streamlit_pandas_profiling import st_profile_report\n",
    "import os \n",
    "\n",
    "if os.path.exists('./dataset.csv'): \n",
    "    df = pd.read_csv('dataset.csv', index_col=None)\n",
    "\n",
    "with st.sidebar: \n",
    "    st.image(\"https://www.onepointltd.com/wp-content/uploads/2020/03/inno2.png\")\n",
    "    st.title(\"EDA-APP\")\n",
    "    choice = st.radio([\"Subir\",\"EDA\"])\n",
    "    st.info(\"Esta app te ayuda realizando un Analisis Exploratorio de Datsos\")\n",
    "\n",
    "if choice == \"Subir\":\n",
    "    st.title(\"Sube tu Dataset\")\n",
    "    file = st.file_uploader(\"Sube tu Dataset\")\n",
    "    if file: \n",
    "        df = pd.read_csv(file, index_col=None)\n",
    "        df.to_csv('dataset.csv', index=None)\n",
    "        st.dataframe(df)\n",
    "\n",
    "if choice == \"EDA\": \n",
    "    st.title(\"Analisis Exploratorio de Datos\")\n",
    "    profile_df = df.profile_report()\n",
    "    st_profile_report(profile_df)\n"
   ]
  }
 ],
 "metadata": {
  "kernelspec": {
   "display_name": "Python 3",
   "language": "python",
   "name": "python3"
  },
  "language_info": {
   "name": "python",
   "version": "3.10.5"
  },
  "orig_nbformat": 4,
  "vscode": {
   "interpreter": {
    "hash": "270c9063d07a28851ba69880084a5f01ac42db4cf4cee14f4c49c73ecb745236"
   }
  }
 },
 "nbformat": 4,
 "nbformat_minor": 2
}
